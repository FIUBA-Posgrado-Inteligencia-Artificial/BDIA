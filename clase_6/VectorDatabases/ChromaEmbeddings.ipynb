{
 "cells": [
  {
   "cell_type": "code",
   "execution_count": 1,
   "metadata": {},
   "outputs": [],
   "source": [
    "import chromadb\n",
    "import pandas as pd"
   ]
  },
  {
   "cell_type": "code",
   "execution_count": 2,
   "metadata": {},
   "outputs": [],
   "source": [
    "chroma_client = chromadb.Client()"
   ]
  },
  {
   "cell_type": "markdown",
   "metadata": {},
   "source": [
    "En caso que se desee persistir la base de datos"
   ]
  },
  {
   "cell_type": "code",
   "execution_count": null,
   "metadata": {},
   "outputs": [],
   "source": [
    "# from chromadb.config import Settings\n",
    "# chroma_client = chromadb.Client(\n",
    "#     Settings(\n",
    "#         persist_directory='my_personal_vector_db',\n",
    "#     )\n",
    "# )"
   ]
  },
  {
   "cell_type": "markdown",
   "metadata": {},
   "source": [
    "Nombramos la colección que vamos a utilizar como \"my_news\""
   ]
  },
  {
   "cell_type": "code",
   "execution_count": 3,
   "metadata": {},
   "outputs": [],
   "source": [
    "collection_name = \"my_news\""
   ]
  },
  {
   "cell_type": "markdown",
   "metadata": {},
   "source": [
    "**chroma_client.list_collections()** retorna una lista con información acerca de las colecciones vigentes dentro de la base persistida\n",
    "\n",
    "En caso que la colección ya exista, y que exista una con el mismo nombre que aquella que intentamos crea, va a ser eliminada para comenzar el proceso nuevamente partiendo desde el inicio"
   ]
  },
  {
   "cell_type": "code",
   "execution_count": 4,
   "metadata": {},
   "outputs": [
    {
     "name": "stdout",
     "output_type": "stream",
     "text": [
      "Creating collection: 'my_news'\n"
     ]
    }
   ],
   "source": [
    "if len(chroma_client.list_collections()) > 0 and collection_name in [chroma_client.list_collections()[0].name]:\n",
    "    chroma_client.delete_collection(name=collection_name)\n",
    "else:\n",
    "    print(f\"Creating collection: '{collection_name}'\")\n",
    "    collection = chroma_client.create_collection(name=collection_name)\n"
   ]
  },
  {
   "cell_type": "markdown",
   "metadata": {},
   "source": [
    "Para embeddings customizados, es necesario crear una nueva **función de embedding** que permita procesar texto\n",
    "\n",
    "```python\n",
    "    collection = chroma_client.create_collection(name=\"my_collection\", embedding_function=emb_fn)\n",
    "```\n"
   ]
  },
  {
   "cell_type": "code",
   "execution_count": 5,
   "metadata": {},
   "outputs": [],
   "source": [
    "pdf = pd.read_csv(\"labelled_newscatcher_coloured.csv\", index_col=0)"
   ]
  },
  {
   "cell_type": "code",
   "execution_count": 6,
   "metadata": {},
   "outputs": [],
   "source": [
    "pdf_subset = pdf.head(1000)"
   ]
  },
  {
   "cell_type": "code",
   "execution_count": 7,
   "metadata": {},
   "outputs": [
    {
     "data": {
      "text/html": [
       "<div>\n",
       "<style scoped>\n",
       "    .dataframe tbody tr th:only-of-type {\n",
       "        vertical-align: middle;\n",
       "    }\n",
       "\n",
       "    .dataframe tbody tr th {\n",
       "        vertical-align: top;\n",
       "    }\n",
       "\n",
       "    .dataframe thead th {\n",
       "        text-align: right;\n",
       "    }\n",
       "</style>\n",
       "<table border=\"1\" class=\"dataframe\">\n",
       "  <thead>\n",
       "    <tr style=\"text-align: right;\">\n",
       "      <th></th>\n",
       "      <th>topic</th>\n",
       "      <th>link</th>\n",
       "      <th>domain</th>\n",
       "      <th>published_date</th>\n",
       "      <th>title</th>\n",
       "      <th>lang</th>\n",
       "      <th>id</th>\n",
       "    </tr>\n",
       "  </thead>\n",
       "  <tbody>\n",
       "    <tr>\n",
       "      <th>0</th>\n",
       "      <td>SCIENCE</td>\n",
       "      <td>https://www.eurekalert.org/pub_releases/2020-0...</td>\n",
       "      <td>eurekalert.org</td>\n",
       "      <td>2020-08-06 13:59:45</td>\n",
       "      <td>A closer look at water-splitting's solar fuel ...</td>\n",
       "      <td>en</td>\n",
       "      <td>0</td>\n",
       "    </tr>\n",
       "    <tr>\n",
       "      <th>1</th>\n",
       "      <td>SCIENCE</td>\n",
       "      <td>https://www.pulse.ng/news/world/an-irresistibl...</td>\n",
       "      <td>pulse.ng</td>\n",
       "      <td>2020-08-12 15:14:19</td>\n",
       "      <td>An irresistible scent makes locusts swarm, stu...</td>\n",
       "      <td>en</td>\n",
       "      <td>1</td>\n",
       "    </tr>\n",
       "    <tr>\n",
       "      <th>2</th>\n",
       "      <td>SCIENCE</td>\n",
       "      <td>https://www.express.co.uk/news/science/1322607...</td>\n",
       "      <td>express.co.uk</td>\n",
       "      <td>2020-08-13 21:01:00</td>\n",
       "      <td>Artificial intelligence warning: AI will know ...</td>\n",
       "      <td>en</td>\n",
       "      <td>2</td>\n",
       "    </tr>\n",
       "    <tr>\n",
       "      <th>3</th>\n",
       "      <td>SCIENCE</td>\n",
       "      <td>https://www.ndtv.com/world-news/glaciers-could...</td>\n",
       "      <td>ndtv.com</td>\n",
       "      <td>2020-08-03 22:18:26</td>\n",
       "      <td>Glaciers Could Have Sculpted Mars Valleys: Study</td>\n",
       "      <td>en</td>\n",
       "      <td>3</td>\n",
       "    </tr>\n",
       "    <tr>\n",
       "      <th>4</th>\n",
       "      <td>SCIENCE</td>\n",
       "      <td>https://www.thesun.ie/tech/5742187/perseid-met...</td>\n",
       "      <td>thesun.ie</td>\n",
       "      <td>2020-08-12 19:54:36</td>\n",
       "      <td>Perseid meteor shower 2020: What time and how ...</td>\n",
       "      <td>en</td>\n",
       "      <td>4</td>\n",
       "    </tr>\n",
       "    <tr>\n",
       "      <th>...</th>\n",
       "      <td>...</td>\n",
       "      <td>...</td>\n",
       "      <td>...</td>\n",
       "      <td>...</td>\n",
       "      <td>...</td>\n",
       "      <td>...</td>\n",
       "      <td>...</td>\n",
       "    </tr>\n",
       "    <tr>\n",
       "      <th>995</th>\n",
       "      <td>TECHNOLOGY</td>\n",
       "      <td>https://www.androidcentral.com/mate-40-will-be...</td>\n",
       "      <td>androidcentral.com</td>\n",
       "      <td>2020-08-07 17:12:33</td>\n",
       "      <td>The Mate 40 will be the last Huawei phone with...</td>\n",
       "      <td>en</td>\n",
       "      <td>995</td>\n",
       "    </tr>\n",
       "    <tr>\n",
       "      <th>996</th>\n",
       "      <td>SCIENCE</td>\n",
       "      <td>https://www.cnn.com/2020/08/17/africa/stone-ag...</td>\n",
       "      <td>cnn.com</td>\n",
       "      <td>2020-08-17 17:10:00</td>\n",
       "      <td>Early humans knew how to make comfy, pest-free...</td>\n",
       "      <td>en</td>\n",
       "      <td>996</td>\n",
       "    </tr>\n",
       "    <tr>\n",
       "      <th>997</th>\n",
       "      <td>HEALTH</td>\n",
       "      <td>https://www.tenterfieldstar.com.au/story/68776...</td>\n",
       "      <td>tenterfieldstar.com.au</td>\n",
       "      <td>2020-08-13 03:26:06</td>\n",
       "      <td>Regional Vic set for virus testing blitz</td>\n",
       "      <td>en</td>\n",
       "      <td>997</td>\n",
       "    </tr>\n",
       "    <tr>\n",
       "      <th>998</th>\n",
       "      <td>HEALTH</td>\n",
       "      <td>https://news.sky.com/story/coronavirus-trials-...</td>\n",
       "      <td>news.sky.com</td>\n",
       "      <td>2020-08-13 13:22:58</td>\n",
       "      <td>Coronavirus: Trials of second contact-tracing ...</td>\n",
       "      <td>en</td>\n",
       "      <td>998</td>\n",
       "    </tr>\n",
       "    <tr>\n",
       "      <th>999</th>\n",
       "      <td>HEALTH</td>\n",
       "      <td>https://www.techexplorist.com/study-demonstrat...</td>\n",
       "      <td>techexplorist.com</td>\n",
       "      <td>2020-08-10 07:47:00</td>\n",
       "      <td>The study demonstrates new treatment for prion...</td>\n",
       "      <td>en</td>\n",
       "      <td>999</td>\n",
       "    </tr>\n",
       "  </tbody>\n",
       "</table>\n",
       "<p>1000 rows × 7 columns</p>\n",
       "</div>"
      ],
      "text/plain": [
       "          topic                                               link  \\\n",
       "0       SCIENCE  https://www.eurekalert.org/pub_releases/2020-0...   \n",
       "1       SCIENCE  https://www.pulse.ng/news/world/an-irresistibl...   \n",
       "2       SCIENCE  https://www.express.co.uk/news/science/1322607...   \n",
       "3       SCIENCE  https://www.ndtv.com/world-news/glaciers-could...   \n",
       "4       SCIENCE  https://www.thesun.ie/tech/5742187/perseid-met...   \n",
       "..          ...                                                ...   \n",
       "995  TECHNOLOGY  https://www.androidcentral.com/mate-40-will-be...   \n",
       "996     SCIENCE  https://www.cnn.com/2020/08/17/africa/stone-ag...   \n",
       "997      HEALTH  https://www.tenterfieldstar.com.au/story/68776...   \n",
       "998      HEALTH  https://news.sky.com/story/coronavirus-trials-...   \n",
       "999      HEALTH  https://www.techexplorist.com/study-demonstrat...   \n",
       "\n",
       "                     domain       published_date  \\\n",
       "0            eurekalert.org  2020-08-06 13:59:45   \n",
       "1                  pulse.ng  2020-08-12 15:14:19   \n",
       "2             express.co.uk  2020-08-13 21:01:00   \n",
       "3                  ndtv.com  2020-08-03 22:18:26   \n",
       "4                 thesun.ie  2020-08-12 19:54:36   \n",
       "..                      ...                  ...   \n",
       "995      androidcentral.com  2020-08-07 17:12:33   \n",
       "996                 cnn.com  2020-08-17 17:10:00   \n",
       "997  tenterfieldstar.com.au  2020-08-13 03:26:06   \n",
       "998            news.sky.com  2020-08-13 13:22:58   \n",
       "999       techexplorist.com  2020-08-10 07:47:00   \n",
       "\n",
       "                                                 title lang   id  \n",
       "0    A closer look at water-splitting's solar fuel ...   en    0  \n",
       "1    An irresistible scent makes locusts swarm, stu...   en    1  \n",
       "2    Artificial intelligence warning: AI will know ...   en    2  \n",
       "3     Glaciers Could Have Sculpted Mars Valleys: Study   en    3  \n",
       "4    Perseid meteor shower 2020: What time and how ...   en    4  \n",
       "..                                                 ...  ...  ...  \n",
       "995  The Mate 40 will be the last Huawei phone with...   en  995  \n",
       "996  Early humans knew how to make comfy, pest-free...   en  996  \n",
       "997           Regional Vic set for virus testing blitz   en  997  \n",
       "998  Coronavirus: Trials of second contact-tracing ...   en  998  \n",
       "999  The study demonstrates new treatment for prion...   en  999  \n",
       "\n",
       "[1000 rows x 7 columns]"
      ]
     },
     "execution_count": 7,
     "metadata": {},
     "output_type": "execute_result"
    }
   ],
   "source": [
    "pdf_subset"
   ]
  },
  {
   "cell_type": "markdown",
   "metadata": {},
   "source": [
    "## Operaciones CRUD\n",
    "Sobre esta base de datos vamos a utilizar operaciones CRUD (Create, Read, Update & Delete) con sintaxis similar a MongoDB\n",
    "\n",
    "Al momento de insertar documentos sobre una base de datos de vectores, se insertan los documentos que van a ser vectorizados, en conjunto con los IDs que van a ser usados para identificar dichos documentos y la metadata asociada a los mismos\n",
    "\n",
    "Así como pueden insertarse documentos, Chromadb soporta la inserción de **embeddings** de forma directa sin necesidad de especificar algún documento, esto resulta útil para realizar búsquedas con texto sobre bases de datos de imágenes con modelos como [CLIP](https://huggingface.co/openai/clip-vit-large-patch14) capaces de manejar ambos tipos de información (texto y visual)"
   ]
  },
  {
   "cell_type": "code",
   "execution_count": 8,
   "metadata": {},
   "outputs": [],
   "source": [
    "collection.add(\n",
    "    documents=pdf_subset[\"title\"][:100].to_list(),\n",
    "    metadatas=[{\"topic\": topic} for topic in pdf_subset[\"topic\"][:100].tolist()],\n",
    "    ids=[f\"id{x}\" for x in range(100)],\n",
    ")"
   ]
  },
  {
   "cell_type": "code",
   "execution_count": 9,
   "metadata": {},
   "outputs": [
    {
     "name": "stdout",
     "output_type": "stream",
     "text": [
      "{\n",
      "    \"ids\": [\n",
      "        [\n",
      "            \"id72\",\n",
      "            \"id7\",\n",
      "            \"id30\",\n",
      "            \"id26\",\n",
      "            \"id23\",\n",
      "            \"id76\",\n",
      "            \"id69\",\n",
      "            \"id40\",\n",
      "            \"id47\",\n",
      "            \"id75\"\n",
      "        ]\n",
      "    ],\n",
      "    \"distances\": [\n",
      "        [\n",
      "            1.225035309791565,\n",
      "            1.3089773654937744,\n",
      "            1.391038179397583,\n",
      "            1.4064621925354004,\n",
      "            1.4391297101974487,\n",
      "            1.4898790121078491,\n",
      "            1.572824239730835,\n",
      "            1.5738128423690796,\n",
      "            1.5835297107696533,\n",
      "            1.5864628553390503\n",
      "        ]\n",
      "    ],\n",
      "    \"metadatas\": [\n",
      "        [\n",
      "            {\n",
      "                \"topic\": \"TECHNOLOGY\"\n",
      "            },\n",
      "            {\n",
      "                \"topic\": \"SCIENCE\"\n",
      "            },\n",
      "            {\n",
      "                \"topic\": \"SCIENCE\"\n",
      "            },\n",
      "            {\n",
      "                \"topic\": \"SCIENCE\"\n",
      "            },\n",
      "            {\n",
      "                \"topic\": \"SCIENCE\"\n",
      "            },\n",
      "            {\n",
      "                \"topic\": \"SCIENCE\"\n",
      "            },\n",
      "            {\n",
      "                \"topic\": \"SCIENCE\"\n",
      "            },\n",
      "            {\n",
      "                \"topic\": \"SCIENCE\"\n",
      "            },\n",
      "            {\n",
      "                \"topic\": \"SCIENCE\"\n",
      "            },\n",
      "            {\n",
      "                \"topic\": \"SCIENCE\"\n",
      "            }\n",
      "        ]\n",
      "    ],\n",
      "    \"embeddings\": null,\n",
      "    \"documents\": [\n",
      "        [\n",
      "            \"Beck teams up with NASA and AI for 'Hyperspace' visual album experience\",\n",
      "            \"Orbital space tourism set for rebirth in 2021\",\n",
      "            \"NASA drops \\\"insensitive\\\" nicknames for cosmic objects\",\n",
      "            \"\\u2018It came alive:\\u2019 NASA astronauts describe experiencing splashdown in SpaceX Dragon\",\n",
      "            \"Hubble Uses Moon As \\u201cMirror\\u201d to Study Earth\\u2019s Atmosphere \\u2013 Proxy in Search of Potentially Habitable Planets Around Other Stars\",\n",
      "            \"Australia's small yet crucial part in the mission to find life on Mars\",\n",
      "            \"NASA Astronauts in SpaceX Capsule Splashdown in Gulf Of Mexico\",\n",
      "            \"SpaceX's Starship spacecraft saw 150 meters high\",\n",
      "            \"NASA\\u2019s InSight lander shows what\\u2019s beneath Mars\\u2019 surface\",\n",
      "            \"Alien base on Mercury: ET hunters claim to find huge UFO\"\n",
      "        ]\n",
      "    ]\n",
      "}\n"
     ]
    }
   ],
   "source": [
    "import json\n",
    "\n",
    "results = collection.query(\n",
    "    query_texts=[\"space\"],\n",
    "    # query_texts=[\"espacio\"],\n",
    "    n_results=10\n",
    ")\n",
    "\n",
    "print(json.dumps(results, indent=4))"
   ]
  },
  {
   "cell_type": "code",
   "execution_count": 10,
   "metadata": {},
   "outputs": [
    {
     "name": "stdout",
     "output_type": "stream",
     "text": [
      "{\n",
      "    \"ids\": [\n",
      "        [\n",
      "            \"id5\",\n",
      "            \"id11\",\n",
      "            \"id58\"\n",
      "        ]\n",
      "    ],\n",
      "    \"distances\": [\n",
      "        [\n",
      "            1.319362759590149,\n",
      "            1.4891374111175537,\n",
      "            1.5543259382247925\n",
      "        ]\n",
      "    ],\n",
      "    \"metadatas\": [\n",
      "        [\n",
      "            {\n",
      "                \"topic\": \"SCIENCE\"\n",
      "            },\n",
      "            {\n",
      "                \"topic\": \"SCIENCE\"\n",
      "            },\n",
      "            {\n",
      "                \"topic\": \"SCIENCE\"\n",
      "            }\n",
      "        ]\n",
      "    ],\n",
      "    \"embeddings\": null,\n",
      "    \"documents\": [\n",
      "        [\n",
      "            \"NASA Releases In-Depth Map of Beirut Explosion Damage\",\n",
      "            \"NASA Finds Ammonia-Linked 'Mushballs' and 'Shallow Lightning' on Jupiter\",\n",
      "            \"Asteroid 29075 1950 DA would be the greatest catastrophe for Earth, Tsunami of 400 toes excessive waves\"\n",
      "        ]\n",
      "    ]\n",
      "}\n"
     ]
    }
   ],
   "source": [
    "import json\n",
    "\n",
    "results = collection.query(\n",
    "    query_texts=[\"bombs\"],\n",
    "    n_results=3\n",
    ")\n",
    "\n",
    "print(json.dumps(results, indent=4))"
   ]
  },
  {
   "cell_type": "code",
   "execution_count": 11,
   "metadata": {},
   "outputs": [
    {
     "data": {
      "text/plain": [
       "{'ids': [['id7',\n",
       "   'id30',\n",
       "   'id26',\n",
       "   'id23',\n",
       "   'id76',\n",
       "   'id69',\n",
       "   'id40',\n",
       "   'id47',\n",
       "   'id75',\n",
       "   'id52']],\n",
       " 'distances': [[1.3089773654937744,\n",
       "   1.391038179397583,\n",
       "   1.4064621925354004,\n",
       "   1.4391297101974487,\n",
       "   1.4898790121078491,\n",
       "   1.572824239730835,\n",
       "   1.5738128423690796,\n",
       "   1.5835297107696533,\n",
       "   1.5864628553390503,\n",
       "   1.59842848777771]],\n",
       " 'metadatas': [[{'topic': 'SCIENCE'},\n",
       "   {'topic': 'SCIENCE'},\n",
       "   {'topic': 'SCIENCE'},\n",
       "   {'topic': 'SCIENCE'},\n",
       "   {'topic': 'SCIENCE'},\n",
       "   {'topic': 'SCIENCE'},\n",
       "   {'topic': 'SCIENCE'},\n",
       "   {'topic': 'SCIENCE'},\n",
       "   {'topic': 'SCIENCE'},\n",
       "   {'topic': 'SCIENCE'}]],\n",
       " 'embeddings': None,\n",
       " 'documents': [['Orbital space tourism set for rebirth in 2021',\n",
       "   'NASA drops \"insensitive\" nicknames for cosmic objects',\n",
       "   '‘It came alive:’ NASA astronauts describe experiencing splashdown in SpaceX Dragon',\n",
       "   'Hubble Uses Moon As “Mirror” to Study Earth’s Atmosphere – Proxy in Search of Potentially Habitable Planets Around Other Stars',\n",
       "   \"Australia's small yet crucial part in the mission to find life on Mars\",\n",
       "   'NASA Astronauts in SpaceX Capsule Splashdown in Gulf Of Mexico',\n",
       "   \"SpaceX's Starship spacecraft saw 150 meters high\",\n",
       "   'NASA’s InSight lander shows what’s beneath Mars’ surface',\n",
       "   'Alien base on Mercury: ET hunters claim to find huge UFO',\n",
       "   'SpaceX Crew-1 mission with NASA, first fully operational crewed mission to space to launch in October']]}"
      ]
     },
     "execution_count": 11,
     "metadata": {},
     "output_type": "execute_result"
    }
   ],
   "source": [
    "collection.query(\n",
    "    query_texts=[\"space\"],\n",
    "    # en el caso de operaciones de filtrado usando  \"where\", \n",
    "    # pueden darse operadores $and, $or, $ge, etc, de la misma forma que se dieron con MongoDB\n",
    "    where={\"topic\": \"SCIENCE\"}, \n",
    "    n_results=10,\n",
    ")"
   ]
  },
  {
   "cell_type": "markdown",
   "metadata": {},
   "source": [
    "Borramos el primer elemento de la colección"
   ]
  },
  {
   "cell_type": "code",
   "execution_count": 12,
   "metadata": {},
   "outputs": [],
   "source": [
    "collection.delete(\n",
    "    ids=[\"id0\"],\n",
    ")"
   ]
  },
  {
   "cell_type": "markdown",
   "metadata": {},
   "source": [
    "Verificamos que ya no se encuentra disponible"
   ]
  },
  {
   "cell_type": "code",
   "execution_count": 13,
   "metadata": {},
   "outputs": [
    {
     "data": {
      "text/plain": [
       "{'ids': [], 'embeddings': None, 'metadatas': [], 'documents': []}"
      ]
     },
     "execution_count": 13,
     "metadata": {},
     "output_type": "execute_result"
    }
   ],
   "source": [
    "collection.get(\n",
    "    ids=[\"id0\"],\n",
    ")"
   ]
  },
  {
   "cell_type": "markdown",
   "metadata": {},
   "source": [
    "Ahora realizamos un ejemplo de actualización de un documento"
   ]
  },
  {
   "cell_type": "code",
   "execution_count": 14,
   "metadata": {},
   "outputs": [
    {
     "data": {
      "text/plain": [
       "{'ids': ['id2'],\n",
       " 'embeddings': None,\n",
       " 'metadatas': [{'topic': 'SCIENCE'}],\n",
       " 'documents': ['Artificial intelligence warning: AI will know us better than we know ourselves']}"
      ]
     },
     "execution_count": 14,
     "metadata": {},
     "output_type": "execute_result"
    }
   ],
   "source": [
    "collection.get(\n",
    "    ids=[\"id2\"],\n",
    ")"
   ]
  },
  {
   "cell_type": "markdown",
   "metadata": {},
   "source": [
    "Para el documento 2, vamos a cambiar su tópico de \"SCIENCE\" a \"TECHNOLOGY\""
   ]
  },
  {
   "cell_type": "code",
   "execution_count": 15,
   "metadata": {},
   "outputs": [],
   "source": [
    "collection.update(\n",
    "    ids=[\"id2\"],\n",
    "    metadatas={\"topic\": \"TECHNOLOGY\"}\n",
    ")"
   ]
  },
  {
   "cell_type": "markdown",
   "metadata": {},
   "source": [
    "Verificamos que el mismo haya cambiado"
   ]
  },
  {
   "cell_type": "code",
   "execution_count": 16,
   "metadata": {},
   "outputs": [
    {
     "data": {
      "text/plain": [
       "{'ids': ['id2'],\n",
       " 'embeddings': None,\n",
       " 'metadatas': [{'topic': 'TECHNOLOGY'}],\n",
       " 'documents': ['Artificial intelligence warning: AI will know us better than we know ourselves']}"
      ]
     },
     "execution_count": 16,
     "metadata": {},
     "output_type": "execute_result"
    }
   ],
   "source": [
    "collection.get(\n",
    "    ids=[\"id2\"],\n",
    ")"
   ]
  },
  {
   "cell_type": "markdown",
   "metadata": {},
   "source": [
    "Ahora se va a armar un pipeline de Q&A sencillo utilizando como fuente de datos, la base de datos que acabamos de crear con ChromaDB.\n",
    "\n",
    "El hito es poder proveer de contexto a algún modelo generativo de lenguaje (en este caso en particular a GPT2) tratando de eficientizar el performance del modelo y tratar de acortar la ventana de contexto necesaria para que el modelo pueda funcionar correctamente\n",
    "\n",
    "Recordar que GPT2 es una versión gratuita y un modelo antiguo de GPT4, no es de esperar que cuente con el mismo performance que modelos como GPT3 en adelante"
   ]
  },
  {
   "cell_type": "code",
   "execution_count": 17,
   "metadata": {},
   "outputs": [
    {
     "name": "stderr",
     "output_type": "stream",
     "text": [
      "c:\\Users\\op211673\\Anaconda3\\envs\\llm-prd\\lib\\site-packages\\tqdm\\auto.py:21: TqdmWarning: IProgress not found. Please update jupyter and ipywidgets. See https://ipywidgets.readthedocs.io/en/stable/user_install.html\n",
      "  from .autonotebook import tqdm as notebook_tqdm\n"
     ]
    }
   ],
   "source": [
    "from transformers import AutoTokenizer, AutoModelForCausalLM, pipeline"
   ]
  },
  {
   "cell_type": "code",
   "execution_count": 18,
   "metadata": {},
   "outputs": [
    {
     "name": "stderr",
     "output_type": "stream",
     "text": [
      "Xformers is not installed correctly. If you want to use memory_efficient_attention to accelerate training use the following command to install Xformers\n",
      "pip install xformers.\n"
     ]
    }
   ],
   "source": [
    "model_id = \"gpt2\"\n",
    "tokenizer = AutoTokenizer.from_pretrained(\n",
    "    model_id,\n",
    "    # cache_dir='cache'\n",
    ")\n",
    "\n",
    "lm_model = AutoModelForCausalLM.from_pretrained(\n",
    "    model_id,\n",
    "    # cache_dir='cache',\n",
    ")\n",
    "\n",
    "pipe = pipeline(\n",
    "    \"text-generation\",\n",
    "    model=lm_model,\n",
    "    tokenizer=tokenizer,\n",
    "    max_new_tokens=512,\n",
    "    device_map=\"auto\",\n",
    ")"
   ]
  },
  {
   "cell_type": "code",
   "execution_count": 19,
   "metadata": {},
   "outputs": [
    {
     "data": {
      "text/plain": [
       "{'ids': [['id5', 'id11', 'id58']],\n",
       " 'distances': [[1.319362759590149, 1.4891374111175537, 1.5543259382247925]],\n",
       " 'metadatas': [[{'topic': 'SCIENCE'},\n",
       "   {'topic': 'SCIENCE'},\n",
       "   {'topic': 'SCIENCE'}]],\n",
       " 'embeddings': None,\n",
       " 'documents': [['NASA Releases In-Depth Map of Beirut Explosion Damage',\n",
       "   \"NASA Finds Ammonia-Linked 'Mushballs' and 'Shallow Lightning' on Jupiter\",\n",
       "   'Asteroid 29075 1950 DA would be the greatest catastrophe for Earth, Tsunami of 400 toes excessive waves']]}"
      ]
     },
     "execution_count": 19,
     "metadata": {},
     "output_type": "execute_result"
    }
   ],
   "source": [
    "results"
   ]
  },
  {
   "cell_type": "code",
   "execution_count": 20,
   "metadata": {},
   "outputs": [
    {
     "name": "stdout",
     "output_type": "stream",
     "text": [
      "{\n",
      "    \"ids\": [\n",
      "        [\n",
      "            \"id72\",\n",
      "            \"id7\",\n",
      "            \"id30\",\n",
      "            \"id26\",\n",
      "            \"id23\",\n",
      "            \"id76\",\n",
      "            \"id69\",\n",
      "            \"id40\",\n",
      "            \"id47\",\n",
      "            \"id75\"\n",
      "        ]\n",
      "    ],\n",
      "    \"distances\": [\n",
      "        [\n",
      "            1.225035309791565,\n",
      "            1.3089773654937744,\n",
      "            1.391038179397583,\n",
      "            1.4064621925354004,\n",
      "            1.4391297101974487,\n",
      "            1.4898790121078491,\n",
      "            1.572824239730835,\n",
      "            1.5738128423690796,\n",
      "            1.5835297107696533,\n",
      "            1.5864628553390503\n",
      "        ]\n",
      "    ],\n",
      "    \"metadatas\": [\n",
      "        [\n",
      "            {\n",
      "                \"topic\": \"TECHNOLOGY\"\n",
      "            },\n",
      "            {\n",
      "                \"topic\": \"SCIENCE\"\n",
      "            },\n",
      "            {\n",
      "                \"topic\": \"SCIENCE\"\n",
      "            },\n",
      "            {\n",
      "                \"topic\": \"SCIENCE\"\n",
      "            },\n",
      "            {\n",
      "                \"topic\": \"SCIENCE\"\n",
      "            },\n",
      "            {\n",
      "                \"topic\": \"SCIENCE\"\n",
      "            },\n",
      "            {\n",
      "                \"topic\": \"SCIENCE\"\n",
      "            },\n",
      "            {\n",
      "                \"topic\": \"SCIENCE\"\n",
      "            },\n",
      "            {\n",
      "                \"topic\": \"SCIENCE\"\n",
      "            },\n",
      "            {\n",
      "                \"topic\": \"SCIENCE\"\n",
      "            }\n",
      "        ]\n",
      "    ],\n",
      "    \"embeddings\": null,\n",
      "    \"documents\": [\n",
      "        [\n",
      "            \"Beck teams up with NASA and AI for 'Hyperspace' visual album experience\",\n",
      "            \"Orbital space tourism set for rebirth in 2021\",\n",
      "            \"NASA drops \\\"insensitive\\\" nicknames for cosmic objects\",\n",
      "            \"\\u2018It came alive:\\u2019 NASA astronauts describe experiencing splashdown in SpaceX Dragon\",\n",
      "            \"Hubble Uses Moon As \\u201cMirror\\u201d to Study Earth\\u2019s Atmosphere \\u2013 Proxy in Search of Potentially Habitable Planets Around Other Stars\",\n",
      "            \"Australia's small yet crucial part in the mission to find life on Mars\",\n",
      "            \"NASA Astronauts in SpaceX Capsule Splashdown in Gulf Of Mexico\",\n",
      "            \"SpaceX's Starship spacecraft saw 150 meters high\",\n",
      "            \"NASA\\u2019s InSight lander shows what\\u2019s beneath Mars\\u2019 surface\",\n",
      "            \"Alien base on Mercury: ET hunters claim to find huge UFO\"\n",
      "        ]\n",
      "    ]\n",
      "}\n"
     ]
    }
   ],
   "source": [
    "results = collection.query(\n",
    "    query_texts=[\"space\"],\n",
    "    # query_texts=[\"espacio\"],\n",
    "    n_results=10\n",
    ")\n",
    "\n",
    "print(json.dumps(results, indent=4))"
   ]
  },
  {
   "cell_type": "code",
   "execution_count": 21,
   "metadata": {},
   "outputs": [],
   "source": [
    "question = \"What's the latest news on space development?\""
   ]
  },
  {
   "cell_type": "markdown",
   "metadata": {},
   "source": [
    "Establecemos el contexto necesario para responder la pregunta del usuario"
   ]
  },
  {
   "cell_type": "code",
   "execution_count": 22,
   "metadata": {},
   "outputs": [
    {
     "name": "stdout",
     "output_type": "stream",
     "text": [
      "\n",
      "#Beck teams up with NASA and AI for 'Hyperspace' visual album experience \n",
      "#Orbital space tourism set for rebirth in 2021 \n",
      "#NASA drops \"insensitive\" nicknames for cosmic objects \n",
      "#‘It came alive:’ NASA astronauts describe experiencing splashdown in SpaceX Dragon \n",
      "#Hubble Uses Moon As “Mirror” to Study Earth’s Atmosphere – Proxy in Search of Potentially Habitable Planets Around Other Stars \n",
      "#Australia's small yet crucial part in the mission to find life on Mars \n",
      "#NASA Astronauts in SpaceX Capsule Splashdown in Gulf Of Mexico \n",
      "#SpaceX's Starship spacecraft saw 150 meters high \n",
      "#NASA’s InSight lander shows what’s beneath Mars’ surface \n",
      "#Alien base on Mercury: ET hunters claim to find huge UFO\n"
     ]
    }
   ],
   "source": [
    "context = \" \".join([f\"\\n#{str(i)}\" for i in results[\"documents\"][0]])\n",
    "print(context)"
   ]
  },
  {
   "cell_type": "code",
   "execution_count": 23,
   "metadata": {},
   "outputs": [
    {
     "name": "stdout",
     "output_type": "stream",
     "text": [
      "Relevant context: \n",
      "#Beck teams up with NASA and AI for 'Hyperspace' visual album experience \n",
      "#Orbital space tourism set for rebirth in 2021 \n",
      "#NASA drops \"insensitive\" nicknames for cosmic objects \n",
      "#‘It came alive:’ NASA astronauts describe experiencing splashdown in SpaceX Dragon \n",
      "#Hubble Uses Moon As “Mirror” to Study Earth’s Atmosphere – Proxy in Search of Potentially Habitable Planets Around Other Stars \n",
      "#Australia's small yet crucial part in the mission to find life on Mars \n",
      "#NASA Astronauts in SpaceX Capsule Splashdown in Gulf Of Mexico \n",
      "#SpaceX's Starship spacecraft saw 150 meters high \n",
      "#NASA’s InSight lander shows what’s beneath Mars’ surface \n",
      "#Alien base on Mercury: ET hunters claim to find huge UFO\n",
      "\n",
      " The user's question: What's the latest news on space development?\n"
     ]
    }
   ],
   "source": [
    "prompt_template = f\"Relevant context: {context}\\n\\n The user's question: {question}\"\n",
    "print(prompt_template)"
   ]
  },
  {
   "cell_type": "code",
   "execution_count": 24,
   "metadata": {},
   "outputs": [
    {
     "name": "stderr",
     "output_type": "stream",
     "text": [
      "Setting `pad_token_id` to `eos_token_id`:50256 for open-end generation.\n"
     ]
    },
    {
     "name": "stdout",
     "output_type": "stream",
     "text": [
      "Relevant context: \n",
      "#Beck teams up with NASA and AI for 'Hyperspace' visual album experience \n",
      "#Orbital space tourism set for rebirth in 2021 \n",
      "#NASA drops \"insensitive\" nicknames for cosmic objects \n",
      "#‘It came alive:’ NASA astronauts describe experiencing splashdown in SpaceX Dragon \n",
      "#Hubble Uses Moon As “Mirror” to Study Earth’s Atmosphere – Proxy in Search of Potentially Habitable Planets Around Other Stars \n",
      "#Australia's small yet crucial part in the mission to find life on Mars \n",
      "#NASA Astronauts in SpaceX Capsule Splashdown in Gulf Of Mexico \n",
      "#SpaceX's Starship spacecraft saw 150 meters high \n",
      "#NASA’s InSight lander shows what’s beneath Mars’ surface \n",
      "#Alien base on Mercury: ET hunters claim to find huge UFO\n",
      "\n",
      " The user's question: What's the latest news on space development? The user's asking: What's the current situation in space? What are the questions behind the space age? Well, there may be more to life on Mars than the mere notion of some massive alien, alien civilization being unleashed on Earth. So what's to be done about what's happening around other stars? Well, some scientists are going to put science and the human race in the middle of the cosmic mess. I know you've got some interesting things to say about this space adventure. The general feeling is that the human mind might be the most efficient place to use space. Now, a couple more things to ask about other planets. Firstly, do you have scientific ties? Well, yes we do, but are there any scientific connections that scientists might have with others on Mars? How are extraterrestrial civilizations able to get away with this and are there other planets that humans could explore? Now, I am a scientist of great skill and passion. So what's the place for the human race to go? Well, first of all we must remember why we exist. Humans have been there for over 600 million years and we have been there for 2 billion years now. Humans are a race for discovery. They are the most intelligent race on the lot. How about a space colonization mission which would bring humans in contact with some alien life? I hope we can find some extraterrestrial life here - but just to give a sense of how far away some humans are. The first point is that these people will only live and die in our presence when they get to where we are. As an example, if you walk down a long, dusty street in the middle of Mars, and then the street starts to turn red, and you realize that the streets are red now, they think that they can get past the Martian desert, then you will go forward. The only way to get to Earth is to go to a planet, which gives the conditions that a person can go, because this planet exists. We need to establish that to get there. But Mars is like a prison, and you must go there, because if you are arrested in that place, you will be arrested. What a shame. Our life chances will plummet as we go there, because we need to create more opportunities. The second point is that if you have a big problem, why do we need to look for other potential problems to solve it? Well, first, our planet has always been cold and our atmosphere is very harsh. As long as we do our job well, we will\n"
     ]
    }
   ],
   "source": [
    "lm_response = pipe(prompt_template)\n",
    "print(lm_response[0][\"generated_text\"])"
   ]
  },
  {
   "cell_type": "markdown",
   "metadata": {},
   "source": [
    "Para más información sobre como incorporar GPT4 y armar un chatbot de Q&A, visitar [Embeddings con OPEN AI](https://docs.trychroma.com/embeddings) para comprender cómo puede integrarse ChromaDB "
   ]
  }
 ],
 "metadata": {
  "kernelspec": {
   "display_name": "llm-env",
   "language": "python",
   "name": "python3"
  },
  "language_info": {
   "codemirror_mode": {
    "name": "ipython",
    "version": 3
   },
   "file_extension": ".py",
   "mimetype": "text/x-python",
   "name": "python",
   "nbconvert_exporter": "python",
   "pygments_lexer": "ipython3",
   "version": "3.9.0"
  },
  "orig_nbformat": 4
 },
 "nbformat": 4,
 "nbformat_minor": 2
}
